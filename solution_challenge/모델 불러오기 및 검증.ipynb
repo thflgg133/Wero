{
 "cells": [
  {
   "cell_type": "code",
   "execution_count": 1,
   "id": "valid-header",
   "metadata": {},
   "outputs": [],
   "source": [
    "import os"
   ]
  },
  {
   "cell_type": "code",
   "execution_count": 2,
   "id": "internal-lucas",
   "metadata": {},
   "outputs": [],
   "source": [
    "os.chdir('C:/Users/Min Ki Son/Desktop/solution_challenge')"
   ]
  },
  {
   "cell_type": "code",
   "execution_count": 3,
   "id": "medium-blend",
   "metadata": {},
   "outputs": [],
   "source": [
    "import tensorflow as tf\n",
    "\n",
    "# 모델 불러오기\n",
    "load_model = tf.keras.models.load_model('Music_recommendation.h5')"
   ]
  },
  {
   "cell_type": "markdown",
   "id": "departmental-magnet",
   "metadata": {},
   "source": [
    "## 검증 데이터\n",
    "Input 값 인덱싱\n",
    "\n",
    "1. 감정\n",
    "* \"행복해요\" : 0, \"신나요\" : 1, \"뿌듯해요\" : 2, \"그저 그래요\": 3, \n",
    "* \"우울해요\" : 4, \"화나요\" : 5, \"힘들어요\" : 6\n",
    "\n",
    "2. PATI 유형\n",
    "* 'ELBC': 0, 'ELBF': 1, 'ELSC': 2, 'ELSF': 3,\n",
    "* 'EMBC': 4, 'EMBF': 5, 'EMSC': 6, 'EMSF': 7,\n",
    "* 'HLBC': 8, 'HLBF': 9, 'HLSC': 10,'HLSF': 11, \n",
    "* 'HMBC': 12,'HMBF': 13,'HMSC': 14,'HMSF': 15  "
   ]
  },
  {
   "cell_type": "markdown",
   "id": "through-second",
   "metadata": {},
   "source": [
    "## INPUT 값 예시"
   ]
  },
  {
   "cell_type": "markdown",
   "id": "champion-locking",
   "metadata": {},
   "source": [
    "- A = [0, 4] -> 행복해요  /  EMBC\n",
    "- B = [4, 11] -> 우울해요  /  HLSF"
   ]
  },
  {
   "cell_type": "code",
   "execution_count": 9,
   "id": "objective-london",
   "metadata": {},
   "outputs": [
    {
     "data": {
      "text/html": [
       "<div>\n",
       "<style scoped>\n",
       "    .dataframe tbody tr th:only-of-type {\n",
       "        vertical-align: middle;\n",
       "    }\n",
       "\n",
       "    .dataframe tbody tr th {\n",
       "        vertical-align: top;\n",
       "    }\n",
       "\n",
       "    .dataframe thead th {\n",
       "        text-align: right;\n",
       "    }\n",
       "</style>\n",
       "<table border=\"1\" class=\"dataframe\">\n",
       "  <thead>\n",
       "    <tr style=\"text-align: right;\">\n",
       "      <th></th>\n",
       "      <th>emotion</th>\n",
       "      <th>type</th>\n",
       "    </tr>\n",
       "  </thead>\n",
       "  <tbody>\n",
       "    <tr>\n",
       "      <th>0</th>\n",
       "      <td>0</td>\n",
       "      <td>4</td>\n",
       "    </tr>\n",
       "  </tbody>\n",
       "</table>\n",
       "</div>"
      ],
      "text/plain": [
       "   emotion  type\n",
       "0        0     4"
      ]
     },
     "execution_count": 9,
     "metadata": {},
     "output_type": "execute_result"
    }
   ],
   "source": [
    "import pandas as pd\n",
    "import random\n",
    "\n",
    "# 데이터 프레임 타입으로 넣어줘야 함\n",
    "validation_data = pd.DataFrame({\"emotion\" : [0], \"type\" : [4]})\n",
    "\n",
    "validation_data"
   ]
  },
  {
   "cell_type": "markdown",
   "id": "confused-processor",
   "metadata": {},
   "source": [
    "## 새로운 데이터로 예측"
   ]
  },
  {
   "cell_type": "code",
   "execution_count": 33,
   "id": "harmful-remove",
   "metadata": {},
   "outputs": [
    {
     "name": "stdout",
     "output_type": "stream",
     "text": [
      "1/1 [==============================] - 0s 16ms/step\n"
     ]
    },
    {
     "data": {
      "text/plain": [
       "[0.012387075,\n",
       " 0.007864534,\n",
       " 0.007951747,\n",
       " 0.007422988,\n",
       " 0.003770537,\n",
       " 0.007698219,\n",
       " 0.003211266,\n",
       " 0.014396429,\n",
       " 0.008350098,\n",
       " 0.00593695,\n",
       " 0.005231938,\n",
       " 0.013006173,\n",
       " 0.007100843,\n",
       " 0.010761199,\n",
       " 0.010764481,\n",
       " 0.0067512696,\n",
       " 0.0047183223,\n",
       " 0.007966593,\n",
       " 0.011119603,\n",
       " 0.0048283865,\n",
       " 0.012537646,\n",
       " 0.005911583,\n",
       " 0.012398088,\n",
       " 0.008658667,\n",
       " 0.009052266,\n",
       " 0.008871959,\n",
       " 0.01588034,\n",
       " 0.005618635,\n",
       " 0.0035780184,\n",
       " 0.011625552,\n",
       " 0.0089506665,\n",
       " 0.011543394,\n",
       " 0.008087627,\n",
       " 0.01692915,\n",
       " 0.023882931,\n",
       " 0.013290539,\n",
       " 0.010947425,\n",
       " 0.0097996835,\n",
       " 0.010566741,\n",
       " 0.008877321,\n",
       " 0.00856968,\n",
       " 0.006655156,\n",
       " 0.0052662627,\n",
       " 0.01261998,\n",
       " 0.008022759,\n",
       " 0.01377406,\n",
       " 0.016507357,\n",
       " 0.005235783,\n",
       " 0.0040770993,\n",
       " 0.0052231075,\n",
       " 0.008835404,\n",
       " 0.0053676018,\n",
       " 0.00841948,\n",
       " 0.008429751,\n",
       " 0.01259435,\n",
       " 0.011397509,\n",
       " 0.009553664,\n",
       " 0.00930937,\n",
       " 0.00699743,\n",
       " 0.011679217,\n",
       " 0.009031628,\n",
       " 0.012509605,\n",
       " 0.008193376,\n",
       " 0.014837409,\n",
       " 0.018347645,\n",
       " 0.0072269295,\n",
       " 0.0075500323,\n",
       " 0.009012159,\n",
       " 0.015159026,\n",
       " 0.0093785105,\n",
       " 0.021194354,\n",
       " 0.011417635,\n",
       " 0.007733394,\n",
       " 0.006367708,\n",
       " 0.004811246,\n",
       " 0.020229388,\n",
       " 0.0070763095,\n",
       " 0.012922713,\n",
       " 0.0057016173,\n",
       " 0.013871299,\n",
       " 0.020320306,\n",
       " 0.0042248624,\n",
       " 0.0135476,\n",
       " 0.008531984,\n",
       " 0.005209156,\n",
       " 0.01977923,\n",
       " 0.009851295,\n",
       " 0.016771438,\n",
       " 0.0136108035,\n",
       " 0.003213729,\n",
       " 0.0067059337,\n",
       " 0.008662447,\n",
       " 0.016842263,\n",
       " 0.0040851342,\n",
       " 0.007035366,\n",
       " 0.011439331,\n",
       " 0.008779378,\n",
       " 0.015241699,\n",
       " 0.01275433,\n",
       " 0.014039789]"
      ]
     },
     "execution_count": 33,
     "metadata": {},
     "output_type": "execute_result"
    }
   ],
   "source": [
    "# 2차원 배열이라 첫번째 인덱스로 접근해야함 / 이후 리스트 형태로 변환\n",
    "candidate = list(load_model.predict(validation_data)[0])\n",
    "candidate"
   ]
  },
  {
   "cell_type": "markdown",
   "id": "coated-intranet",
   "metadata": {},
   "source": [
    "## 유사도 높은 상위 5개 음악 가져오기"
   ]
  },
  {
   "cell_type": "code",
   "execution_count": 64,
   "id": "arranged-marsh",
   "metadata": {},
   "outputs": [],
   "source": [
    "def get_top_n(candidate):\n",
    "    '''\n",
    "    list: [int, int, ...] \n",
    "    num: int, 추출하고 싶은 개수 \n",
    "    '''\n",
    "    tmp = candidate.copy()\n",
    "    tmp.sort()\n",
    "   \n",
    "    top_num = tmp[-5:]    \n",
    "    top_idx = [candidate.index(x)-1 for x in top_num]\n",
    "    \n",
    "    return top_num[::-1], top_idx[::-1]"
   ]
  },
  {
   "cell_type": "code",
   "execution_count": 65,
   "id": "legitimate-chambers",
   "metadata": {},
   "outputs": [
    {
     "data": {
      "text/plain": [
       "([0.023882931, 0.021194354, 0.020320306, 0.020229388, 0.01977923],\n",
       " [33, 69, 79, 74, 84])"
      ]
     },
     "execution_count": 65,
     "metadata": {},
     "output_type": "execute_result"
    }
   ],
   "source": [
    "get_top_n(candidate)"
   ]
  },
  {
   "cell_type": "markdown",
   "id": "seasonal-walker",
   "metadata": {},
   "source": [
    "결과 : 멜론 차트 TOP 100 에서 \n",
    "\n",
    "34위 : Rush Hour (Feat. j-hope of BTS)\n",
    "70위 : 그라데이션\n",
    "80위 : 이젠 안녕\n",
    "75위 : 그대를 알고\n",
    "85위 : Yet To Come \n",
    "\n",
    "위 5개가 유형 & 감정에 따른 가장 추천도 높은 음악으로 선정되었음"
   ]
  },
  {
   "cell_type": "markdown",
   "id": "informational-bennett",
   "metadata": {},
   "source": [
    "## 음악 정보 불러오기"
   ]
  },
  {
   "cell_type": "code",
   "execution_count": 66,
   "id": "committed-integrity",
   "metadata": {},
   "outputs": [
    {
     "data": {
      "text/html": [
       "<div>\n",
       "<style scoped>\n",
       "    .dataframe tbody tr th:only-of-type {\n",
       "        vertical-align: middle;\n",
       "    }\n",
       "\n",
       "    .dataframe tbody tr th {\n",
       "        vertical-align: top;\n",
       "    }\n",
       "\n",
       "    .dataframe thead th {\n",
       "        text-align: right;\n",
       "    }\n",
       "</style>\n",
       "<table border=\"1\" class=\"dataframe\">\n",
       "  <thead>\n",
       "    <tr style=\"text-align: right;\">\n",
       "      <th></th>\n",
       "      <th>순위</th>\n",
       "      <th>앨범 사진 링크 주소</th>\n",
       "      <th>곡 명</th>\n",
       "      <th>아티스트 명</th>\n",
       "      <th>앨범 명</th>\n",
       "    </tr>\n",
       "  </thead>\n",
       "  <tbody>\n",
       "    <tr>\n",
       "      <th>0</th>\n",
       "      <td>1</td>\n",
       "      <td>https://cdnimg.melon.co.kr/cm2/album/images/11...</td>\n",
       "      <td>Ditto</td>\n",
       "      <td>NewJeans</td>\n",
       "      <td>NewJeans 'OMG'</td>\n",
       "    </tr>\n",
       "    <tr>\n",
       "      <th>1</th>\n",
       "      <td>2</td>\n",
       "      <td>https://cdnimg.melon.co.kr/cm2/album/images/11...</td>\n",
       "      <td>OMG</td>\n",
       "      <td>NewJeans</td>\n",
       "      <td>NewJeans 'OMG'</td>\n",
       "    </tr>\n",
       "    <tr>\n",
       "      <th>2</th>\n",
       "      <td>3</td>\n",
       "      <td>https://cdnimg.melon.co.kr/cm2/album/images/11...</td>\n",
       "      <td>Hype boy</td>\n",
       "      <td>NewJeans</td>\n",
       "      <td>NewJeans 1st EP 'New Jeans'</td>\n",
       "    </tr>\n",
       "    <tr>\n",
       "      <th>3</th>\n",
       "      <td>4</td>\n",
       "      <td>https://cdnimg.melon.co.kr/cm2/album/images/11...</td>\n",
       "      <td>Teddy Bear</td>\n",
       "      <td>STAYC(스테이씨)</td>\n",
       "      <td>Teddy Bear</td>\n",
       "    </tr>\n",
       "    <tr>\n",
       "      <th>4</th>\n",
       "      <td>5</td>\n",
       "      <td>https://cdnimg.melon.co.kr/cm2/album/images/10...</td>\n",
       "      <td>사건의 지평선</td>\n",
       "      <td>윤하 (YOUNHA)</td>\n",
       "      <td>YOUNHA 6th Album Repackage 'END THEORY : Final...</td>\n",
       "    </tr>\n",
       "    <tr>\n",
       "      <th>...</th>\n",
       "      <td>...</td>\n",
       "      <td>...</td>\n",
       "      <td>...</td>\n",
       "      <td>...</td>\n",
       "      <td>...</td>\n",
       "    </tr>\n",
       "    <tr>\n",
       "      <th>95</th>\n",
       "      <td>96</td>\n",
       "      <td>https://cdnimg.melon.co.kr/cm2/album/images/11...</td>\n",
       "      <td>너를 보는게 지친 하루에</td>\n",
       "      <td>송하예</td>\n",
       "      <td>너를 보는게 지친 하루에</td>\n",
       "    </tr>\n",
       "    <tr>\n",
       "      <th>96</th>\n",
       "      <td>97</td>\n",
       "      <td>https://cdnimg.melon.co.kr/cm2/album/images/11...</td>\n",
       "      <td>떠나보낼 준비해 둘걸 그랬어</td>\n",
       "      <td>임한별</td>\n",
       "      <td>떠나보낼 준비해 둘걸 그랬어</td>\n",
       "    </tr>\n",
       "    <tr>\n",
       "      <th>97</th>\n",
       "      <td>98</td>\n",
       "      <td>https://cdnimg.melon.co.kr/cm2/album/images/10...</td>\n",
       "      <td>봄여름가을겨울 (Still Life)</td>\n",
       "      <td>BIGBANG (빅뱅)</td>\n",
       "      <td>봄여름가을겨울 (Still Life)</td>\n",
       "    </tr>\n",
       "    <tr>\n",
       "      <th>98</th>\n",
       "      <td>99</td>\n",
       "      <td>https://cdnimg.melon.co.kr/cm2/album/images/11...</td>\n",
       "      <td>보고싶었어</td>\n",
       "      <td>WSG워너비(4FIRE)</td>\n",
       "      <td>WSG워너비 1집</td>\n",
       "    </tr>\n",
       "    <tr>\n",
       "      <th>99</th>\n",
       "      <td>100</td>\n",
       "      <td>https://cdnimg.melon.co.kr/cm2/album/images/11...</td>\n",
       "      <td>마이웨이 (MY WAY) (Prod. R.Tee)</td>\n",
       "      <td>저스디스 (JUSTHIS)/R.Tee/던말릭 (DON MALIK)/허성현 (Huh)...</td>\n",
       "      <td>쇼미더머니 11 Episode 1</td>\n",
       "    </tr>\n",
       "  </tbody>\n",
       "</table>\n",
       "<p>100 rows × 5 columns</p>\n",
       "</div>"
      ],
      "text/plain": [
       "     순위                                        앨범 사진 링크 주소  \\\n",
       "0     1  https://cdnimg.melon.co.kr/cm2/album/images/11...   \n",
       "1     2  https://cdnimg.melon.co.kr/cm2/album/images/11...   \n",
       "2     3  https://cdnimg.melon.co.kr/cm2/album/images/11...   \n",
       "3     4  https://cdnimg.melon.co.kr/cm2/album/images/11...   \n",
       "4     5  https://cdnimg.melon.co.kr/cm2/album/images/10...   \n",
       "..  ...                                                ...   \n",
       "95   96  https://cdnimg.melon.co.kr/cm2/album/images/11...   \n",
       "96   97  https://cdnimg.melon.co.kr/cm2/album/images/11...   \n",
       "97   98  https://cdnimg.melon.co.kr/cm2/album/images/10...   \n",
       "98   99  https://cdnimg.melon.co.kr/cm2/album/images/11...   \n",
       "99  100  https://cdnimg.melon.co.kr/cm2/album/images/11...   \n",
       "\n",
       "                            곡 명  \\\n",
       "0                         Ditto   \n",
       "1                           OMG   \n",
       "2                      Hype boy   \n",
       "3                    Teddy Bear   \n",
       "4                       사건의 지평선   \n",
       "..                          ...   \n",
       "95                너를 보는게 지친 하루에   \n",
       "96              떠나보낼 준비해 둘걸 그랬어   \n",
       "97         봄여름가을겨울 (Still Life)   \n",
       "98                        보고싶었어   \n",
       "99  마이웨이 (MY WAY) (Prod. R.Tee)   \n",
       "\n",
       "                                               아티스트 명  \\\n",
       "0                                            NewJeans   \n",
       "1                                            NewJeans   \n",
       "2                                            NewJeans   \n",
       "3                                         STAYC(스테이씨)   \n",
       "4                                         윤하 (YOUNHA)   \n",
       "..                                                ...   \n",
       "95                                                송하예   \n",
       "96                                                임한별   \n",
       "97                                       BIGBANG (빅뱅)   \n",
       "98                                      WSG워너비(4FIRE)   \n",
       "99  저스디스 (JUSTHIS)/R.Tee/던말릭 (DON MALIK)/허성현 (Huh)...   \n",
       "\n",
       "                                                 앨범 명  \n",
       "0                                      NewJeans 'OMG'  \n",
       "1                                      NewJeans 'OMG'  \n",
       "2                         NewJeans 1st EP 'New Jeans'  \n",
       "3                                          Teddy Bear  \n",
       "4   YOUNHA 6th Album Repackage 'END THEORY : Final...  \n",
       "..                                                ...  \n",
       "95                                      너를 보는게 지친 하루에  \n",
       "96                                    떠나보낼 준비해 둘걸 그랬어  \n",
       "97                               봄여름가을겨울 (Still Life)  \n",
       "98                                          WSG워너비 1집  \n",
       "99                                 쇼미더머니 11 Episode 1  \n",
       "\n",
       "[100 rows x 5 columns]"
      ]
     },
     "execution_count": 66,
     "metadata": {},
     "output_type": "execute_result"
    }
   ],
   "source": [
    "import pandas as pd\n",
    "\n",
    "top100 = pd.read_csv('top100_music.csv', skiprows=[0])\n",
    "top100"
   ]
  },
  {
   "cell_type": "markdown",
   "id": "friendly-practice",
   "metadata": {},
   "source": [
    "## 순위 데이터를 이용해 음악 정보에 접근"
   ]
  },
  {
   "cell_type": "code",
   "execution_count": 71,
   "id": "mechanical-bubble",
   "metadata": {},
   "outputs": [
    {
     "name": "stdout",
     "output_type": "stream",
     "text": [
      "Cover_img : https://cdnimg.melon.co.kr/cm2/album/images/110/62/364/11062364_20220922182518_500.jpg/melon/resize/120/quality/80/optimize\n",
      "Title : Rush Hour (Feat. j-hope of BTS)\n",
      "Artist : Crush\n",
      "Album : Rush Hour\n"
     ]
    }
   ],
   "source": [
    "앨범_사진_링크, 곡_명, 아티스트명, 엘범_명 = list(top100.iloc[33][1:])\n",
    "print('Cover_img :', 앨범_사진_링크)\n",
    "print('Title :',  곡_명)\n",
    "print(\"Artist :\", 아티스트명)\n",
    "print(\"Album :\", 엘범_명)"
   ]
  },
  {
   "cell_type": "code",
   "execution_count": null,
   "id": "smooth-prospect",
   "metadata": {},
   "outputs": [],
   "source": []
  }
 ],
 "metadata": {
  "kernelspec": {
   "display_name": "Python 3",
   "language": "python",
   "name": "python3"
  },
  "language_info": {
   "codemirror_mode": {
    "name": "ipython",
    "version": 3
   },
   "file_extension": ".py",
   "mimetype": "text/x-python",
   "name": "python",
   "nbconvert_exporter": "python",
   "pygments_lexer": "ipython3",
   "version": "3.8.8"
  }
 },
 "nbformat": 4,
 "nbformat_minor": 5
}
