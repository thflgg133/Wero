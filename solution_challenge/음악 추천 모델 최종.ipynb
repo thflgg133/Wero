{
 "cells": [
  {
   "cell_type": "code",
   "execution_count": 11,
   "id": "peripheral-knowing",
   "metadata": {},
   "outputs": [],
   "source": [
    "import os\n",
    "import pandas as pd\n",
    "\n",
    "os.chdir('C:/Users/Min Ki Son/Desktop/music_recommend')"
   ]
  },
  {
   "cell_type": "code",
   "execution_count": 12,
   "id": "saving-directory",
   "metadata": {},
   "outputs": [
    {
     "data": {
      "text/html": [
       "<div>\n",
       "<style scoped>\n",
       "    .dataframe tbody tr th:only-of-type {\n",
       "        vertical-align: middle;\n",
       "    }\n",
       "\n",
       "    .dataframe tbody tr th {\n",
       "        vertical-align: top;\n",
       "    }\n",
       "\n",
       "    .dataframe thead th {\n",
       "        text-align: right;\n",
       "    }\n",
       "</style>\n",
       "<table border=\"1\" class=\"dataframe\">\n",
       "  <thead>\n",
       "    <tr style=\"text-align: right;\">\n",
       "      <th></th>\n",
       "      <th>순위</th>\n",
       "      <th>앨범 사진 링크 주소</th>\n",
       "      <th>곡 명</th>\n",
       "      <th>아티스트 명</th>\n",
       "      <th>앨범 명</th>\n",
       "    </tr>\n",
       "  </thead>\n",
       "  <tbody>\n",
       "    <tr>\n",
       "      <th>0</th>\n",
       "      <td>1</td>\n",
       "      <td>https://cdnimg.melon.co.kr/cm2/album/images/11...</td>\n",
       "      <td>Ditto</td>\n",
       "      <td>NewJeans</td>\n",
       "      <td>NewJeans 'OMG'</td>\n",
       "    </tr>\n",
       "    <tr>\n",
       "      <th>1</th>\n",
       "      <td>2</td>\n",
       "      <td>https://cdnimg.melon.co.kr/cm2/album/images/11...</td>\n",
       "      <td>OMG</td>\n",
       "      <td>NewJeans</td>\n",
       "      <td>NewJeans 'OMG'</td>\n",
       "    </tr>\n",
       "    <tr>\n",
       "      <th>2</th>\n",
       "      <td>3</td>\n",
       "      <td>https://cdnimg.melon.co.kr/cm2/album/images/11...</td>\n",
       "      <td>Hype boy</td>\n",
       "      <td>NewJeans</td>\n",
       "      <td>NewJeans 1st EP 'New Jeans'</td>\n",
       "    </tr>\n",
       "    <tr>\n",
       "      <th>3</th>\n",
       "      <td>4</td>\n",
       "      <td>https://cdnimg.melon.co.kr/cm2/album/images/11...</td>\n",
       "      <td>Teddy Bear</td>\n",
       "      <td>STAYC(스테이씨)</td>\n",
       "      <td>Teddy Bear</td>\n",
       "    </tr>\n",
       "    <tr>\n",
       "      <th>4</th>\n",
       "      <td>5</td>\n",
       "      <td>https://cdnimg.melon.co.kr/cm2/album/images/10...</td>\n",
       "      <td>사건의 지평선</td>\n",
       "      <td>윤하 (YOUNHA)</td>\n",
       "      <td>YOUNHA 6th Album Repackage 'END THEORY : Final...</td>\n",
       "    </tr>\n",
       "    <tr>\n",
       "      <th>...</th>\n",
       "      <td>...</td>\n",
       "      <td>...</td>\n",
       "      <td>...</td>\n",
       "      <td>...</td>\n",
       "      <td>...</td>\n",
       "    </tr>\n",
       "    <tr>\n",
       "      <th>95</th>\n",
       "      <td>96</td>\n",
       "      <td>https://cdnimg.melon.co.kr/cm2/album/images/11...</td>\n",
       "      <td>너를 보는게 지친 하루에</td>\n",
       "      <td>송하예</td>\n",
       "      <td>너를 보는게 지친 하루에</td>\n",
       "    </tr>\n",
       "    <tr>\n",
       "      <th>96</th>\n",
       "      <td>97</td>\n",
       "      <td>https://cdnimg.melon.co.kr/cm2/album/images/11...</td>\n",
       "      <td>떠나보낼 준비해 둘걸 그랬어</td>\n",
       "      <td>임한별</td>\n",
       "      <td>떠나보낼 준비해 둘걸 그랬어</td>\n",
       "    </tr>\n",
       "    <tr>\n",
       "      <th>97</th>\n",
       "      <td>98</td>\n",
       "      <td>https://cdnimg.melon.co.kr/cm2/album/images/10...</td>\n",
       "      <td>봄여름가을겨울 (Still Life)</td>\n",
       "      <td>BIGBANG (빅뱅)</td>\n",
       "      <td>봄여름가을겨울 (Still Life)</td>\n",
       "    </tr>\n",
       "    <tr>\n",
       "      <th>98</th>\n",
       "      <td>99</td>\n",
       "      <td>https://cdnimg.melon.co.kr/cm2/album/images/11...</td>\n",
       "      <td>보고싶었어</td>\n",
       "      <td>WSG워너비(4FIRE)</td>\n",
       "      <td>WSG워너비 1집</td>\n",
       "    </tr>\n",
       "    <tr>\n",
       "      <th>99</th>\n",
       "      <td>100</td>\n",
       "      <td>https://cdnimg.melon.co.kr/cm2/album/images/11...</td>\n",
       "      <td>마이웨이 (MY WAY) (Prod. R.Tee)</td>\n",
       "      <td>저스디스 (JUSTHIS)/R.Tee/던말릭 (DON MALIK)/허성현 (Huh)...</td>\n",
       "      <td>쇼미더머니 11 Episode 1</td>\n",
       "    </tr>\n",
       "  </tbody>\n",
       "</table>\n",
       "<p>100 rows × 5 columns</p>\n",
       "</div>"
      ],
      "text/plain": [
       "     순위                                        앨범 사진 링크 주소  \\\n",
       "0     1  https://cdnimg.melon.co.kr/cm2/album/images/11...   \n",
       "1     2  https://cdnimg.melon.co.kr/cm2/album/images/11...   \n",
       "2     3  https://cdnimg.melon.co.kr/cm2/album/images/11...   \n",
       "3     4  https://cdnimg.melon.co.kr/cm2/album/images/11...   \n",
       "4     5  https://cdnimg.melon.co.kr/cm2/album/images/10...   \n",
       "..  ...                                                ...   \n",
       "95   96  https://cdnimg.melon.co.kr/cm2/album/images/11...   \n",
       "96   97  https://cdnimg.melon.co.kr/cm2/album/images/11...   \n",
       "97   98  https://cdnimg.melon.co.kr/cm2/album/images/10...   \n",
       "98   99  https://cdnimg.melon.co.kr/cm2/album/images/11...   \n",
       "99  100  https://cdnimg.melon.co.kr/cm2/album/images/11...   \n",
       "\n",
       "                            곡 명  \\\n",
       "0                         Ditto   \n",
       "1                           OMG   \n",
       "2                      Hype boy   \n",
       "3                    Teddy Bear   \n",
       "4                       사건의 지평선   \n",
       "..                          ...   \n",
       "95                너를 보는게 지친 하루에   \n",
       "96              떠나보낼 준비해 둘걸 그랬어   \n",
       "97         봄여름가을겨울 (Still Life)   \n",
       "98                        보고싶었어   \n",
       "99  마이웨이 (MY WAY) (Prod. R.Tee)   \n",
       "\n",
       "                                               아티스트 명  \\\n",
       "0                                            NewJeans   \n",
       "1                                            NewJeans   \n",
       "2                                            NewJeans   \n",
       "3                                         STAYC(스테이씨)   \n",
       "4                                         윤하 (YOUNHA)   \n",
       "..                                                ...   \n",
       "95                                                송하예   \n",
       "96                                                임한별   \n",
       "97                                       BIGBANG (빅뱅)   \n",
       "98                                      WSG워너비(4FIRE)   \n",
       "99  저스디스 (JUSTHIS)/R.Tee/던말릭 (DON MALIK)/허성현 (Huh)...   \n",
       "\n",
       "                                                 앨범 명  \n",
       "0                                      NewJeans 'OMG'  \n",
       "1                                      NewJeans 'OMG'  \n",
       "2                         NewJeans 1st EP 'New Jeans'  \n",
       "3                                          Teddy Bear  \n",
       "4   YOUNHA 6th Album Repackage 'END THEORY : Final...  \n",
       "..                                                ...  \n",
       "95                                      너를 보는게 지친 하루에  \n",
       "96                                    떠나보낼 준비해 둘걸 그랬어  \n",
       "97                               봄여름가을겨울 (Still Life)  \n",
       "98                                          WSG워너비 1집  \n",
       "99                                 쇼미더머니 11 Episode 1  \n",
       "\n",
       "[100 rows x 5 columns]"
      ]
     },
     "execution_count": 12,
     "metadata": {},
     "output_type": "execute_result"
    }
   ],
   "source": [
    "data = pd.read_csv('top100_music.csv', skiprows=[0])\n",
    "data"
   ]
  },
  {
   "cell_type": "code",
   "execution_count": 13,
   "id": "bearing-swing",
   "metadata": {},
   "outputs": [],
   "source": [
    "data.drop(\"순위\", axis=1,inplace=True)\n",
    "data.drop([\"앨범 사진 링크 주소\", '아티스트 명', \"앨범 명\"], axis=1,inplace=True)"
   ]
  },
  {
   "cell_type": "code",
   "execution_count": 14,
   "id": "peaceful-paste",
   "metadata": {},
   "outputs": [],
   "source": [
    "music_list = [data['곡 명'][i] for i in range(100)]\n",
    "a = [i for i in range(100)]"
   ]
  },
  {
   "cell_type": "code",
   "execution_count": 15,
   "id": "later-processor",
   "metadata": {},
   "outputs": [],
   "source": [
    "for i in range(9):\n",
    "    data = data.append(data.loc[a], ignore_index=True)"
   ]
  },
  {
   "cell_type": "code",
   "execution_count": 16,
   "id": "alone-multimedia",
   "metadata": {},
   "outputs": [],
   "source": [
    "data['emotion'] = None"
   ]
  },
  {
   "cell_type": "code",
   "execution_count": 17,
   "id": "cooked-record",
   "metadata": {},
   "outputs": [],
   "source": [
    "data['type'] = None"
   ]
  },
  {
   "cell_type": "code",
   "execution_count": 18,
   "id": "eligible-snapshot",
   "metadata": {},
   "outputs": [],
   "source": [
    "import random\n",
    "\n",
    "emotion = [\"행복해요\", \"신나요\", \"뿌듯해요\", \"그저 그래요\", \"우울해요\", \"화나요\", \"힘들어요\"]\n",
    "\n",
    "emotion_dic = {\"행복해요\" : 0, \"신나요\" : 1, \"뿌듯해요\" : 2, \"그저 그래요\": 3, \"우울해요\" : 4, \"화나요\" : 5, \"힘들어요\" : 6}\n",
    "\n",
    "for i in range(1000):\n",
    "    data['emotion'][i] = random.choice(emotion)"
   ]
  },
  {
   "cell_type": "code",
   "execution_count": 19,
   "id": "significant-catalyst",
   "metadata": {},
   "outputs": [],
   "source": [
    "import random\n",
    "PATI = [\n",
    "        'ELBC', 'ELBF', 'ELSC', 'ELSF',\n",
    "        'EMBC', 'EMBF', 'EMSC', 'EMSF',\n",
    "        'HLBC', 'HLBF', 'HLSC', 'HLSF', \n",
    "        'HMBC', 'HMBF', 'HMSC', 'HMSF'  \n",
    "       ]\n",
    "\n",
    "PATI_dic = {\n",
    "        'ELBC': 0, 'ELBF': 1, 'ELSC': 2, 'ELSF': 3,\n",
    "        'EMBC': 4, 'EMBF': 5, 'EMSC': 6, 'EMSF': 7,\n",
    "        'HLBC': 8, 'HLBF': 9, 'HLSC': 10,'HLSF': 11, \n",
    "        'HMBC': 12,'HMBF': 13,'HMSC': 14,'HMSF': 15  \n",
    "        }\n",
    "\n",
    "for i in range(1000):\n",
    "    data['type'][i] = random.choice(PATI)"
   ]
  },
  {
   "cell_type": "code",
   "execution_count": 20,
   "id": "accepted-transition",
   "metadata": {},
   "outputs": [
    {
     "data": {
      "text/html": [
       "<div>\n",
       "<style scoped>\n",
       "    .dataframe tbody tr th:only-of-type {\n",
       "        vertical-align: middle;\n",
       "    }\n",
       "\n",
       "    .dataframe tbody tr th {\n",
       "        vertical-align: top;\n",
       "    }\n",
       "\n",
       "    .dataframe thead th {\n",
       "        text-align: right;\n",
       "    }\n",
       "</style>\n",
       "<table border=\"1\" class=\"dataframe\">\n",
       "  <thead>\n",
       "    <tr style=\"text-align: right;\">\n",
       "      <th></th>\n",
       "      <th>곡 명</th>\n",
       "      <th>emotion</th>\n",
       "      <th>type</th>\n",
       "    </tr>\n",
       "  </thead>\n",
       "  <tbody>\n",
       "    <tr>\n",
       "      <th>0</th>\n",
       "      <td>Ditto</td>\n",
       "      <td>화나요</td>\n",
       "      <td>HLBC</td>\n",
       "    </tr>\n",
       "    <tr>\n",
       "      <th>1</th>\n",
       "      <td>OMG</td>\n",
       "      <td>화나요</td>\n",
       "      <td>EMBF</td>\n",
       "    </tr>\n",
       "    <tr>\n",
       "      <th>2</th>\n",
       "      <td>Hype boy</td>\n",
       "      <td>화나요</td>\n",
       "      <td>ELBC</td>\n",
       "    </tr>\n",
       "    <tr>\n",
       "      <th>3</th>\n",
       "      <td>Teddy Bear</td>\n",
       "      <td>화나요</td>\n",
       "      <td>EMSF</td>\n",
       "    </tr>\n",
       "    <tr>\n",
       "      <th>4</th>\n",
       "      <td>사건의 지평선</td>\n",
       "      <td>화나요</td>\n",
       "      <td>EMSF</td>\n",
       "    </tr>\n",
       "    <tr>\n",
       "      <th>...</th>\n",
       "      <td>...</td>\n",
       "      <td>...</td>\n",
       "      <td>...</td>\n",
       "    </tr>\n",
       "    <tr>\n",
       "      <th>995</th>\n",
       "      <td>너를 보는게 지친 하루에</td>\n",
       "      <td>힘들어요</td>\n",
       "      <td>HLSC</td>\n",
       "    </tr>\n",
       "    <tr>\n",
       "      <th>996</th>\n",
       "      <td>떠나보낼 준비해 둘걸 그랬어</td>\n",
       "      <td>힘들어요</td>\n",
       "      <td>ELSC</td>\n",
       "    </tr>\n",
       "    <tr>\n",
       "      <th>997</th>\n",
       "      <td>봄여름가을겨울 (Still Life)</td>\n",
       "      <td>행복해요</td>\n",
       "      <td>HMSF</td>\n",
       "    </tr>\n",
       "    <tr>\n",
       "      <th>998</th>\n",
       "      <td>보고싶었어</td>\n",
       "      <td>화나요</td>\n",
       "      <td>ELBF</td>\n",
       "    </tr>\n",
       "    <tr>\n",
       "      <th>999</th>\n",
       "      <td>마이웨이 (MY WAY) (Prod. R.Tee)</td>\n",
       "      <td>우울해요</td>\n",
       "      <td>HMSF</td>\n",
       "    </tr>\n",
       "  </tbody>\n",
       "</table>\n",
       "<p>1000 rows × 3 columns</p>\n",
       "</div>"
      ],
      "text/plain": [
       "                             곡 명 emotion  type\n",
       "0                          Ditto     화나요  HLBC\n",
       "1                            OMG     화나요  EMBF\n",
       "2                       Hype boy     화나요  ELBC\n",
       "3                     Teddy Bear     화나요  EMSF\n",
       "4                        사건의 지평선     화나요  EMSF\n",
       "..                           ...     ...   ...\n",
       "995                너를 보는게 지친 하루에    힘들어요  HLSC\n",
       "996              떠나보낼 준비해 둘걸 그랬어    힘들어요  ELSC\n",
       "997         봄여름가을겨울 (Still Life)    행복해요  HMSF\n",
       "998                        보고싶었어     화나요  ELBF\n",
       "999  마이웨이 (MY WAY) (Prod. R.Tee)    우울해요  HMSF\n",
       "\n",
       "[1000 rows x 3 columns]"
      ]
     },
     "execution_count": 20,
     "metadata": {},
     "output_type": "execute_result"
    }
   ],
   "source": [
    "data"
   ]
  },
  {
   "cell_type": "code",
   "execution_count": 21,
   "id": "thorough-hampshire",
   "metadata": {},
   "outputs": [],
   "source": [
    "import random\n",
    "\n",
    "music_list = [i for i in range(100)]\n",
    "\n",
    "for i in range(1000):\n",
    "    data['곡 명'][i] = int(random.choice(music_list))"
   ]
  },
  {
   "cell_type": "code",
   "execution_count": 22,
   "id": "equal-singles",
   "metadata": {},
   "outputs": [],
   "source": [
    "for i in range(1000):\n",
    "    data['emotion'][i] = emotion_dic[data['emotion'][i]]"
   ]
  },
  {
   "cell_type": "code",
   "execution_count": 23,
   "id": "republican-profession",
   "metadata": {},
   "outputs": [],
   "source": [
    "for i in range(1000):\n",
    "    data['type'][i] = PATI_dic[data['type'][i]]"
   ]
  },
  {
   "cell_type": "code",
   "execution_count": 24,
   "id": "extended-thanks",
   "metadata": {},
   "outputs": [],
   "source": [
    "data = data.astype(int)"
   ]
  },
  {
   "cell_type": "code",
   "execution_count": 38,
   "id": "therapeutic-impossible",
   "metadata": {},
   "outputs": [
    {
     "data": {
      "text/plain": [
       "((800, 3), (200, 3))"
      ]
     },
     "execution_count": 38,
     "metadata": {},
     "output_type": "execute_result"
    }
   ],
   "source": [
    "from sklearn.model_selection import train_test_split\n",
    "\n",
    "train_df,test_df = train_test_split(data, test_size=0.2,random_state=0)\n",
    "train_df.shape, test_df.shape"
   ]
  },
  {
   "cell_type": "code",
   "execution_count": 43,
   "id": "serial-snowboard",
   "metadata": {},
   "outputs": [
    {
     "data": {
      "text/plain": [
       "emotion    2\n",
       "type       5\n",
       "Name: 687, dtype: int32"
      ]
     },
     "execution_count": 43,
     "metadata": {},
     "output_type": "execute_result"
    }
   ],
   "source": [
    "train_input = train_df.iloc[:,1:3]\n",
    "test_input = test_df.iloc[:,1:3]\n",
    "train_target = train_df[\"곡 명\"]\n",
    "test_target = test_df[\"곡 명\"]\n",
    "\n",
    "train_input.iloc[0]"
   ]
  },
  {
   "cell_type": "code",
   "execution_count": 35,
   "id": "stretch-bulgaria",
   "metadata": {},
   "outputs": [
    {
     "ename": "KeyError",
     "evalue": "0",
     "output_type": "error",
     "traceback": [
      "\u001b[1;31m---------------------------------------------------------------------------\u001b[0m",
      "\u001b[1;31mKeyError\u001b[0m                                  Traceback (most recent call last)",
      "\u001b[1;32mC:\\ProgramData\\Anaconda3\\lib\\site-packages\\pandas\\core\\indexes\\base.py\u001b[0m in \u001b[0;36mget_loc\u001b[1;34m(self, key, method, tolerance)\u001b[0m\n\u001b[0;32m   3079\u001b[0m             \u001b[1;32mtry\u001b[0m\u001b[1;33m:\u001b[0m\u001b[1;33m\u001b[0m\u001b[1;33m\u001b[0m\u001b[0m\n\u001b[1;32m-> 3080\u001b[1;33m                 \u001b[1;32mreturn\u001b[0m \u001b[0mself\u001b[0m\u001b[1;33m.\u001b[0m\u001b[0m_engine\u001b[0m\u001b[1;33m.\u001b[0m\u001b[0mget_loc\u001b[0m\u001b[1;33m(\u001b[0m\u001b[0mcasted_key\u001b[0m\u001b[1;33m)\u001b[0m\u001b[1;33m\u001b[0m\u001b[1;33m\u001b[0m\u001b[0m\n\u001b[0m\u001b[0;32m   3081\u001b[0m             \u001b[1;32mexcept\u001b[0m \u001b[0mKeyError\u001b[0m \u001b[1;32mas\u001b[0m \u001b[0merr\u001b[0m\u001b[1;33m:\u001b[0m\u001b[1;33m\u001b[0m\u001b[1;33m\u001b[0m\u001b[0m\n",
      "\u001b[1;32mpandas\\_libs\\index.pyx\u001b[0m in \u001b[0;36mpandas._libs.index.IndexEngine.get_loc\u001b[1;34m()\u001b[0m\n",
      "\u001b[1;32mpandas\\_libs\\index.pyx\u001b[0m in \u001b[0;36mpandas._libs.index.IndexEngine.get_loc\u001b[1;34m()\u001b[0m\n",
      "\u001b[1;32mpandas\\_libs\\hashtable_class_helper.pxi\u001b[0m in \u001b[0;36mpandas._libs.hashtable.PyObjectHashTable.get_item\u001b[1;34m()\u001b[0m\n",
      "\u001b[1;32mpandas\\_libs\\hashtable_class_helper.pxi\u001b[0m in \u001b[0;36mpandas._libs.hashtable.PyObjectHashTable.get_item\u001b[1;34m()\u001b[0m\n",
      "\u001b[1;31mKeyError\u001b[0m: 0",
      "\nThe above exception was the direct cause of the following exception:\n",
      "\u001b[1;31mKeyError\u001b[0m                                  Traceback (most recent call last)",
      "\u001b[1;32m<ipython-input-35-c586a7bd3319>\u001b[0m in \u001b[0;36m<module>\u001b[1;34m\u001b[0m\n\u001b[1;32m----> 1\u001b[1;33m \u001b[0mtrain_input\u001b[0m\u001b[1;33m[\u001b[0m\u001b[1;36m0\u001b[0m\u001b[1;33m]\u001b[0m\u001b[1;33m\u001b[0m\u001b[1;33m\u001b[0m\u001b[0m\n\u001b[0m",
      "\u001b[1;32mC:\\ProgramData\\Anaconda3\\lib\\site-packages\\pandas\\core\\frame.py\u001b[0m in \u001b[0;36m__getitem__\u001b[1;34m(self, key)\u001b[0m\n\u001b[0;32m   3022\u001b[0m             \u001b[1;32mif\u001b[0m \u001b[0mself\u001b[0m\u001b[1;33m.\u001b[0m\u001b[0mcolumns\u001b[0m\u001b[1;33m.\u001b[0m\u001b[0mnlevels\u001b[0m \u001b[1;33m>\u001b[0m \u001b[1;36m1\u001b[0m\u001b[1;33m:\u001b[0m\u001b[1;33m\u001b[0m\u001b[1;33m\u001b[0m\u001b[0m\n\u001b[0;32m   3023\u001b[0m                 \u001b[1;32mreturn\u001b[0m \u001b[0mself\u001b[0m\u001b[1;33m.\u001b[0m\u001b[0m_getitem_multilevel\u001b[0m\u001b[1;33m(\u001b[0m\u001b[0mkey\u001b[0m\u001b[1;33m)\u001b[0m\u001b[1;33m\u001b[0m\u001b[1;33m\u001b[0m\u001b[0m\n\u001b[1;32m-> 3024\u001b[1;33m             \u001b[0mindexer\u001b[0m \u001b[1;33m=\u001b[0m \u001b[0mself\u001b[0m\u001b[1;33m.\u001b[0m\u001b[0mcolumns\u001b[0m\u001b[1;33m.\u001b[0m\u001b[0mget_loc\u001b[0m\u001b[1;33m(\u001b[0m\u001b[0mkey\u001b[0m\u001b[1;33m)\u001b[0m\u001b[1;33m\u001b[0m\u001b[1;33m\u001b[0m\u001b[0m\n\u001b[0m\u001b[0;32m   3025\u001b[0m             \u001b[1;32mif\u001b[0m \u001b[0mis_integer\u001b[0m\u001b[1;33m(\u001b[0m\u001b[0mindexer\u001b[0m\u001b[1;33m)\u001b[0m\u001b[1;33m:\u001b[0m\u001b[1;33m\u001b[0m\u001b[1;33m\u001b[0m\u001b[0m\n\u001b[0;32m   3026\u001b[0m                 \u001b[0mindexer\u001b[0m \u001b[1;33m=\u001b[0m \u001b[1;33m[\u001b[0m\u001b[0mindexer\u001b[0m\u001b[1;33m]\u001b[0m\u001b[1;33m\u001b[0m\u001b[1;33m\u001b[0m\u001b[0m\n",
      "\u001b[1;32mC:\\ProgramData\\Anaconda3\\lib\\site-packages\\pandas\\core\\indexes\\base.py\u001b[0m in \u001b[0;36mget_loc\u001b[1;34m(self, key, method, tolerance)\u001b[0m\n\u001b[0;32m   3080\u001b[0m                 \u001b[1;32mreturn\u001b[0m \u001b[0mself\u001b[0m\u001b[1;33m.\u001b[0m\u001b[0m_engine\u001b[0m\u001b[1;33m.\u001b[0m\u001b[0mget_loc\u001b[0m\u001b[1;33m(\u001b[0m\u001b[0mcasted_key\u001b[0m\u001b[1;33m)\u001b[0m\u001b[1;33m\u001b[0m\u001b[1;33m\u001b[0m\u001b[0m\n\u001b[0;32m   3081\u001b[0m             \u001b[1;32mexcept\u001b[0m \u001b[0mKeyError\u001b[0m \u001b[1;32mas\u001b[0m \u001b[0merr\u001b[0m\u001b[1;33m:\u001b[0m\u001b[1;33m\u001b[0m\u001b[1;33m\u001b[0m\u001b[0m\n\u001b[1;32m-> 3082\u001b[1;33m                 \u001b[1;32mraise\u001b[0m \u001b[0mKeyError\u001b[0m\u001b[1;33m(\u001b[0m\u001b[0mkey\u001b[0m\u001b[1;33m)\u001b[0m \u001b[1;32mfrom\u001b[0m \u001b[0merr\u001b[0m\u001b[1;33m\u001b[0m\u001b[1;33m\u001b[0m\u001b[0m\n\u001b[0m\u001b[0;32m   3083\u001b[0m \u001b[1;33m\u001b[0m\u001b[0m\n\u001b[0;32m   3084\u001b[0m         \u001b[1;32mif\u001b[0m \u001b[0mtolerance\u001b[0m \u001b[1;32mis\u001b[0m \u001b[1;32mnot\u001b[0m \u001b[1;32mNone\u001b[0m\u001b[1;33m:\u001b[0m\u001b[1;33m\u001b[0m\u001b[1;33m\u001b[0m\u001b[0m\n",
      "\u001b[1;31mKeyError\u001b[0m: 0"
     ]
    }
   ],
   "source": [
    "train_input[0]"
   ]
  },
  {
   "cell_type": "code",
   "execution_count": 47,
   "id": "applied-kitty",
   "metadata": {},
   "outputs": [],
   "source": [
    "from tensorflow import keras\n",
    "from tensorflow.keras.models import Sequential\n",
    "from tensorflow.keras.layers import Dense\n",
    "from tensorflow.keras import optimizers"
   ]
  },
  {
   "cell_type": "code",
   "execution_count": 50,
   "id": "incomplete-pressure",
   "metadata": {},
   "outputs": [],
   "source": [
    "dense = keras.layers.Dense(100, activation='softmax', input_shape=(2,))  # 출력 뉴런의의 개수 : 10개, 활성화 함수 : softmax / input_shape = 데이터 입력 모양\n",
    "\n",
    "model = keras.Sequential(dense) # 모델을 Sequential(선형)으로 연결한다.\n",
    "model.compile(loss='sparse_categorical_crossentropy', optimizer='adam', metrics='accuracy')"
   ]
  },
  {
   "cell_type": "code",
   "execution_count": 52,
   "id": "novel-uncle",
   "metadata": {},
   "outputs": [
    {
     "name": "stdout",
     "output_type": "stream",
     "text": [
      "Epoch 1/30\n",
      "800/800 [==============================] - 1s 687us/step - loss: 4.5256 - accuracy: 0.0225\n",
      "Epoch 2/30\n",
      "800/800 [==============================] - 1s 688us/step - loss: 4.5210 - accuracy: 0.0213\n",
      "Epoch 3/30\n",
      "800/800 [==============================] - 1s 685us/step - loss: 4.5183 - accuracy: 0.0175\n",
      "Epoch 4/30\n",
      "800/800 [==============================] - 1s 670us/step - loss: 4.5143 - accuracy: 0.0237\n",
      "Epoch 5/30\n",
      "800/800 [==============================] - 1s 675us/step - loss: 4.5117 - accuracy: 0.0150\n",
      "Epoch 6/30\n",
      "800/800 [==============================] - 1s 660us/step - loss: 4.5092 - accuracy: 0.0175\n",
      "Epoch 7/30\n",
      "800/800 [==============================] - 1s 674us/step - loss: 4.5082 - accuracy: 0.0188\n",
      "Epoch 8/30\n",
      "800/800 [==============================] - 1s 665us/step - loss: 4.5068 - accuracy: 0.0225\n",
      "Epoch 9/30\n",
      "800/800 [==============================] - 1s 687us/step - loss: 4.5024 - accuracy: 0.0275\n",
      "Epoch 10/30\n",
      "800/800 [==============================] - 1s 677us/step - loss: 4.5049 - accuracy: 0.0162\n",
      "Epoch 11/30\n",
      "800/800 [==============================] - 1s 673us/step - loss: 4.5023 - accuracy: 0.0162\n",
      "Epoch 12/30\n",
      "800/800 [==============================] - 1s 677us/step - loss: 4.4991 - accuracy: 0.0200\n",
      "Epoch 13/30\n",
      "800/800 [==============================] - 1s 697us/step - loss: 4.4995 - accuracy: 0.0137\n",
      "Epoch 14/30\n",
      "800/800 [==============================] - 1s 674us/step - loss: 4.4979 - accuracy: 0.0175\n",
      "Epoch 15/30\n",
      "800/800 [==============================] - 1s 684us/step - loss: 4.4970 - accuracy: 0.0175\n",
      "Epoch 16/30\n",
      "800/800 [==============================] - 1s 669us/step - loss: 4.4958 - accuracy: 0.0162\n",
      "Epoch 17/30\n",
      "800/800 [==============================] - 1s 680us/step - loss: 4.4952 - accuracy: 0.0225\n",
      "Epoch 18/30\n",
      "800/800 [==============================] - 1s 678us/step - loss: 4.4934 - accuracy: 0.0100\n",
      "Epoch 19/30\n",
      "800/800 [==============================] - 1s 667us/step - loss: 4.4917 - accuracy: 0.0213\n",
      "Epoch 20/30\n",
      "800/800 [==============================] - 1s 673us/step - loss: 4.4905 - accuracy: 0.0200\n",
      "Epoch 21/30\n",
      "800/800 [==============================] - 1s 672us/step - loss: 4.4895 - accuracy: 0.0175\n",
      "Epoch 22/30\n",
      "800/800 [==============================] - 1s 674us/step - loss: 4.4891 - accuracy: 0.0250\n",
      "Epoch 23/30\n",
      "800/800 [==============================] - 1s 674us/step - loss: 4.4878 - accuracy: 0.0150\n",
      "Epoch 24/30\n",
      "800/800 [==============================] - 1s 708us/step - loss: 4.4867 - accuracy: 0.0175\n",
      "Epoch 25/30\n",
      "800/800 [==============================] - 1s 744us/step - loss: 4.4863 - accuracy: 0.0113\n",
      "Epoch 26/30\n",
      "800/800 [==============================] - 1s 706us/step - loss: 4.4873 - accuracy: 0.0150\n",
      "Epoch 27/30\n",
      "800/800 [==============================] - 1s 695us/step - loss: 4.4852 - accuracy: 0.0188\n",
      "Epoch 28/30\n",
      "800/800 [==============================] - 1s 684us/step - loss: 4.4857 - accuracy: 0.0237\n",
      "Epoch 29/30\n",
      "800/800 [==============================] - 1s 677us/step - loss: 4.4837 - accuracy: 0.0250\n",
      "Epoch 30/30\n",
      "800/800 [==============================] - 1s 670us/step - loss: 4.4830 - accuracy: 0.0200\n"
     ]
    },
    {
     "data": {
      "text/plain": [
       "<keras.callbacks.History at 0x2b99e837be0>"
      ]
     },
     "execution_count": 52,
     "metadata": {},
     "output_type": "execute_result"
    }
   ],
   "source": [
    "model.fit(train_input, train_target, epochs=30, batch_size=1)"
   ]
  },
  {
   "cell_type": "code",
   "execution_count": 56,
   "id": "southwest-walker",
   "metadata": {},
   "outputs": [
    {
     "name": "stdout",
     "output_type": "stream",
     "text": [
      "7/7 [==============================] - 0s 997us/step\n",
      "[0.00384384 0.0030479  0.01275488 0.00900532 0.00362532 0.01503506\n",
      " 0.00176556 0.02022024 0.01272131 0.00904468 0.01152617 0.01160378\n",
      " 0.00711139 0.0165877  0.0095315  0.00341024 0.00869581 0.00470596\n",
      " 0.00860373 0.00796643 0.0070246  0.01221087 0.0080648  0.01040929\n",
      " 0.00715536 0.00590052 0.00580243 0.00691909 0.00218525 0.00932497\n",
      " 0.01331708 0.00477766 0.0054201  0.00856536 0.01301963 0.00684954\n",
      " 0.0065493  0.00738088 0.01467024 0.00609429 0.00984823 0.00623913\n",
      " 0.01466206 0.01552712 0.00605664 0.00954367 0.00729365 0.01065403\n",
      " 0.00265364 0.00832737 0.01179973 0.00610967 0.00533264 0.01455375\n",
      " 0.00848046 0.01358636 0.02637226 0.00706661 0.01846075 0.01032487\n",
      " 0.01165694 0.02303726 0.01000541 0.01028917 0.00852021 0.01349369\n",
      " 0.00719134 0.01171288 0.00738379 0.01885267 0.01186974 0.01145873\n",
      " 0.00872039 0.00967896 0.00562877 0.01008677 0.01038724 0.00710986\n",
      " 0.01542493 0.01798369 0.01397427 0.00407347 0.01341095 0.00638511\n",
      " 0.00140614 0.01822568 0.0240026  0.01761165 0.00881311 0.00739691\n",
      " 0.00486227 0.00889391 0.01531661 0.00766953 0.00986611 0.00527122\n",
      " 0.0135863  0.0136401  0.01170283 0.00805816]\n"
     ]
    }
   ],
   "source": [
    "print(model.predict(test_input)[0])"
   ]
  },
  {
   "cell_type": "code",
   "execution_count": 57,
   "id": "junior-shock",
   "metadata": {},
   "outputs": [],
   "source": [
    "model.save('C:/Users/Min Ki Son/Desktop/Music_recommendation.h5')"
   ]
  },
  {
   "cell_type": "code",
   "execution_count": 59,
   "id": "formal-model",
   "metadata": {},
   "outputs": [
    {
     "name": "stdout",
     "output_type": "stream",
     "text": [
      "WARNING:tensorflow:Compiled the loaded model, but the compiled metrics have yet to be built. `model.compile_metrics` will be empty until you train or evaluate the model.\n",
      "INFO:tensorflow:Assets written to: C:/Users/Min Ki Son/Desktop/solution_challenge\\assets\n"
     ]
    }
   ],
   "source": [
    "from tensorflow import keras\n",
    "model = keras.models.load_model('C:/Users/Min Ki Son/Desktop/Music_recommendation.h5', compile=False)\n",
    "\n",
    "export_path = 'C:/Users/Min Ki Son/Desktop/solution_challenge'\n",
    "model.save(export_path, save_format=\"tf\")"
   ]
  },
  {
   "cell_type": "code",
   "execution_count": 60,
   "id": "caring-wildlife",
   "metadata": {},
   "outputs": [
    {
     "data": {
      "text/plain": [
       "2508"
      ]
     },
     "execution_count": 60,
     "metadata": {},
     "output_type": "execute_result"
    }
   ],
   "source": [
    "import tensorflow as tf\n",
    "\n",
    "saved_model_dir = 'C:/Users/Min Ki Son/Desktop/solution_challenge'\n",
    "converter = tf.lite.TFLiteConverter.from_saved_model(saved_model_dir)\n",
    "converter.target_spec.supported_ops = [tf.lite.OpsSet.TFLITE_BUILTINS,\n",
    "                                       tf.lite.OpsSet.SELECT_TF_OPS]\n",
    "tflite_model = converter.convert()\n",
    "open('C:/Users/Min Ki Son/Desktop/Music_recommendation.tflite', 'wb').write(tflite_model)"
   ]
  },
  {
   "cell_type": "code",
   "execution_count": null,
   "id": "usual-cutting",
   "metadata": {},
   "outputs": [],
   "source": []
  }
 ],
 "metadata": {
  "kernelspec": {
   "display_name": "Python 3",
   "language": "python",
   "name": "python3"
  },
  "language_info": {
   "codemirror_mode": {
    "name": "ipython",
    "version": 3
   },
   "file_extension": ".py",
   "mimetype": "text/x-python",
   "name": "python",
   "nbconvert_exporter": "python",
   "pygments_lexer": "ipython3",
   "version": "3.8.8"
  }
 },
 "nbformat": 4,
 "nbformat_minor": 5
}
